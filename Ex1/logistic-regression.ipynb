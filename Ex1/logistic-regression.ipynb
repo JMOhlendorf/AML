{
 "cells": [
  {
   "cell_type": "markdown",
   "metadata": {},
   "source": [
    "# 1.1 Classification with sklearn"
   ]
  },
  {
   "cell_type": "code",
   "execution_count": 1,
   "metadata": {},
   "outputs": [
    {
     "name": "stdout",
     "output_type": "stream",
     "text": [
      "dict_keys(['data', 'target', 'frame', 'feature_names', 'target_names', 'images', 'DESCR'])\n",
      "float64\n"
     ]
    }
   ],
   "source": [
    "from sklearn.datasets import load_digits\n",
    "from sklearn.model_selection  import train_test_split as tts\n",
    "from sklearn.linear_model import LogisticRegression as lr\n",
    "from sklearn.model_selection import cross_val_score\n",
    "from sklearn import model_selection\n",
    "import sklearn\n",
    "\n",
    "import numpy as np\n",
    "import matplotlib.pyplot as plt\n",
    "\n",
    "digits = load_digits()\n",
    "print(digits.keys())\n",
    "data = digits[\"data\"]\n",
    "images = digits[\"images\"]\n",
    "target = digits[\"target\"]\n",
    "target_names = digits[\"target_names\"]\n",
    "import numpy as np\n",
    "print(data.dtype)"
   ]
  },
  {
   "cell_type": "code",
   "execution_count": 2,
   "metadata": {},
   "outputs": [],
   "source": [
    "x_all = data\n",
    "y_all = target\n",
    "\n",
    "idx_a = np.where(y_all == 3)\n",
    "idx_b = np.where(y_all == 8)\n",
    "\n",
    "x_a = x_all[idx_a]\n",
    "x_b = x_all[idx_b]\n",
    "x_a = np.concatenate([x_a, np.ones((x_a.shape[0], 1))], axis=1)\n",
    "x_b = np.concatenate([x_b, np.ones((x_b.shape[0], 1))], axis=1)\n",
    "\n",
    "x_ab = np.concatenate([x_a, x_b], axis=0)\n",
    "\n",
    "y_a = y_all[idx_a]\n",
    "y_a[y_a==3] = 1\n",
    "y_b = y_all[idx_b]\n",
    "y_b[y_b==8] = -1\n",
    "y_ab = np.concatenate([y_a, y_b], axis=0)"
   ]
  },
  {
   "cell_type": "code",
   "execution_count": 3,
   "metadata": {},
   "outputs": [
    {
     "name": "stdout",
     "output_type": "stream",
     "text": [
      "Prediction:  [1 1]\n",
      "Probability:  [[2.22597644e-06 9.99997774e-01]\n",
      " [4.60477390e-09 9.99999995e-01]]\n",
      "Score:  1.0\n",
      "Cross-Validation score (10 folds):  0.9858730158730159\n",
      "Cross-Validation for lambda = 1.000000e-05 score (10 folds): 0.937778\n",
      "Cross-Validation for lambda = 1.000000e-03 score (10 folds): 0.968889\n",
      "Cross-Validation for lambda = 1.000000e-01 score (10 folds): 0.985873\n",
      "Cross-Validation for lambda = 1.000000e+00 score (10 folds): 0.985873\n",
      "Cross-Validation for lambda = 1.000000e+02 score (10 folds): 0.985873\n",
      "Cross-Validation for lambda = 1.000000e+04 score (10 folds): 0.983095\n"
     ]
    }
   ],
   "source": [
    "cv = model_selection.StratifiedKFold(n_splits=10, shuffle=True, random_state=213)\n",
    "cv.get_n_splits(x_ab, y_ab)\n",
    "np.random.seed(1312)\n",
    "\n",
    "model = lr(max_iter=2000).fit(x_ab, y_ab)\n",
    "\n",
    "print(\"Prediction: \", model.predict(x_ab[:2, :]))\n",
    "print(\"Probability: \", model.predict_proba(x_ab[:2, :]))\n",
    "print(\"Score: \", model.score(x_ab, y_ab))\n",
    "\n",
    "cross_scores = cross_val_score(model, x_ab, y_ab, cv=10)\n",
    "print(\"Cross-Validation score (10 folds): \", np.mean(cross_scores))\n",
    "\n",
    "for lmbda in [1e-5, 1e-3, 1e-1, 1, 100, 1e4]:\n",
    "    model = lr(max_iter=2000, C=lmbda).fit(x_ab, y_ab)\n",
    "    cross_scores = cross_val_score(model, x_ab, y_ab, cv=10)\n",
    "    print(\"Cross-Validation for lambda = %e score (10 folds): %f\"%(lmbda, np.mean(cross_scores))) "
   ]
  },
  {
   "cell_type": "markdown",
   "metadata": {},
   "source": [
    "Selecting $\\lambda = 0.1$ for highest generalisation"
   ]
  },
  {
   "cell_type": "markdown",
   "metadata": {},
   "source": [
    "# 1.2 Optimisation methods"
   ]
  },
  {
   "cell_type": "code",
   "execution_count": 4,
   "metadata": {},
   "outputs": [],
   "source": [
    "def sigmoid(z):\n",
    "    return 1/(1 + np.exp(-z))\n",
    "\n",
    "def gradient(beta, X, y, lamda):\n",
    "    return beta/lamda + (1/X.shape[0])*(sigmoid(-y @ X @ beta) * (- y @ X).T)\n",
    "\n",
    "def predict(beta, X):\n",
    "    pred = X @ beta\n",
    "    #pred = np.zeros(X.shape[0])\n",
    "    #for i in range(X.shape[0]):\n",
    "    #    pred[i] = np.sum(X[i]*beta)\n",
    "    pred_3 = (pred > 0).astype(int)*2-1\n",
    "    return pred_3\n",
    "\n",
    "def zero_one_loss(y_predictions, y_truth):\n",
    "    return np.sum(y_predictions!=y_truth)"
   ]
  },
  {
   "cell_type": "code",
   "execution_count": 5,
   "metadata": {},
   "outputs": [],
   "source": [
    "LAMBDA = 0.1\n",
    "\n",
    "def timestep(tau0, gamma, t):\n",
    "    tau = tau0/(1 + gamma*t)\n",
    "    return tau\n",
    "\n",
    "def grad_desc(beta, X, y, tau0, gamma, m):\n",
    "    for t in range(m):\n",
    "        tau = timestep(tau0, gamma, t)\n",
    "        beta = beta - tau*gradient(beta, X, y, LAMBDA)\n",
    "    return beta\n",
    "\n",
    "def stoch_grad(beta, X, y, tau0, gamma, m):\n",
    "    for t in range(m):\n",
    "        tau = timestep(tau0, gamma, t)\n",
    "        idx = np.random.randint(X.shape[0])\n",
    "        beta = beta - tau*gradient(beta, X[idx].reshape((1, -1)), y[idx].reshape((1)), LAMBDA)\n",
    "    return beta\n",
    "\n",
    "def stoch_grad_minibatch(beta, X, y, tau0, gamma, m, b):\n",
    "    for t in range(m):\n",
    "        tau = timestep(tau0, gamma, t)\n",
    "        idx = np.random.randint(X.shape[0], size=b)\n",
    "        beta = beta - tau*gradient(beta, X[idx], y[idx], LAMBDA)\n",
    "    return beta\n",
    "\n",
    "def stoch_grad_momentum(beta, X, y, tau0, gamma, m, mu):\n",
    "    g = 0\n",
    "    for t in range(m):\n",
    "        tau = timestep(tau0, gamma, t)\n",
    "        idx = np.random.randint(X.shape[0])\n",
    "        g = mu*g+(1-mu)+gradient(beta, X[idx].reshape((1, -1)), y[idx].reshape((1)), LAMBDA)\n",
    "        beta = beta - tau*g\n",
    "    return beta\n",
    "\n",
    "def adam(beta, X, y, tau0, gamma, m, mu1, mu2):\n",
    "    g = 0\n",
    "    eps = 1e-8\n",
    "    for t in range(m):\n",
    "        tau = timestep(tau0, gamma, t)\n",
    "        idx = np.random.randint(X.shape[0])\n",
    "        g = mu1*g + (1 - mu1)*gradient(beta, X[idx].reshape((1, -1)), y[idx].reshape((1)), LAMBDA)\n",
    "        q = mu2*g + (1 - mu2)*gradient(beta, X[idx].reshape((1, -1)), y[idx].reshape((1)), LAMBDA)**2\n",
    "        \n",
    "        g_corr = g / (1 - mu1)\n",
    "        q_corr = q / (1 - mu2)\n",
    "\n",
    "        beta = beta - tau/(np.sqrt(q_corr) + eps)*g_corr\n",
    "        \n",
    "    return beta\n",
    "\n",
    "def stoch_avg_grad_2(beta, X, y, tau0, gamma, m):\n",
    "    g_store = np.zeros(X.shape)\n",
    "    for i in range(X.shape[0]):\n",
    "        g_store[i] = (-np.dot(y[i], X[i][:,None])*sigmoid(-np.dot(y[i], np.dot(X[i], beta)))).T\n",
    "    \n",
    "    # g_store = - y @ X * sigmoid(y @ X @ beta)\n",
    "    g = 1/len(X)*np.sum(g_store)\n",
    "    \n",
    "    for t in range(m):\n",
    "        tau = timestep(tau0, gamma, t)\n",
    "        idx = np.random.randint(X.shape[0])\n",
    "        g_i = -np.dot(y[idx], X[idx].reshape((1,-1 )))*sigmoid(-y[idx]*np.dot(X[idx], beta))\n",
    "        g = g + 1/len(X)*(g_i - g_store[idx])\n",
    "        g_store[idx] = g_i\n",
    "        beta = beta*(1 - tau/LAMBDA) - tau * g\n",
    "        \n",
    "    return beta.reshape((-1))\n",
    "\n",
    "def stoch_avg_grad(beta, X, y, tau0, gamma, m):\n",
    "    g_store = - (y*X.T).T * sigmoid(-y @ X @ beta)\n",
    "    g = 1/len(X)*np.sum(g_store, axis=0)\n",
    "\n",
    "    for t in range(m):\n",
    "        tau = timestep(tau0, gamma, t)\n",
    "        idx = np.random.randint(X.shape[0])\n",
    "        g_i = -1*(np.dot(y[idx], X[idx].reshape((1,-1 )))*sigmoid(-np.dot(y[idx], X[idx] @ beta))).flatten()\n",
    "        g = g + 1/len(X)*(g_i - g_store[idx])\n",
    "        g_store[idx] = g_i\n",
    "        beta = beta*(1 - tau/LAMBDA) - tau * g\n",
    "        \n",
    "    return beta\n",
    "\n",
    "def dual_coord_asc_2(beta, X, y, tau0, gamma, m):\n",
    "    epsilon = 1\n",
    "    a = np.random.uniform(size=len(X))\n",
    "    arr = np.zeros(X.shape)\n",
    "    for i in range(X.shape[0]):\n",
    "        arr[i] = (a[i]*np.dot(y[i], X[i][:,None])).T\n",
    "    beta = LAMBDA/len(X) * np.sum(arr, axis=0)\n",
    "    # beta = LAMBDA/X.shape[0] * a @ y @ X.T\n",
    "    \n",
    "    for t in range(m):\n",
    "        tau = timestep(tau0, gamma, t)\n",
    "        idx = np.random.randint(X.shape[0])\n",
    "        fprime = np.dot(y[idx], np.dot(X[idx], beta)) + np.log(a[idx]/(1 - a[idx]))\n",
    "        fprimeprime = LAMBDA/len(X)* np.dot(X[idx], X[idx].T) + 1/(a[idx]*(1 - a[idx]))\n",
    "        a_new = np.clip(a[idx] - fprime/fprimeprime, epsilon, 1-epsilon)\n",
    "        beta = beta + LAMBDA/len(X)*np.dot(y[idx], X[idx].T)*(a_new - a[idx])\n",
    "        a[idx] = a_new\n",
    "\n",
    "    return beta\n",
    "\n",
    "def dual_coord_asc(beta, X, y, tau0, gamma, m):\n",
    "    epsilon = 0.0001\n",
    "    a = np.random.uniform(size=X.shape[0])\n",
    "    beta = LAMBDA/X.shape[0] * (a @ (y*X.T).T)\n",
    "\n",
    "    for t in range(m):\n",
    "        tau = timestep(tau0, gamma, t)\n",
    "        idx = np.random.randint(X.shape[0])\n",
    "        fprime = np.dot(y[idx], np.dot(X[idx], beta)) + np.log(a[idx]/(1 - a[idx]))\n",
    "        fprimeprime = LAMBDA/len(X)* np.dot(X[idx], X[idx].T) + 1/(a[idx]*(1 - a[idx]))\n",
    "        a_new = np.clip(a[idx] - fprime/fprimeprime, epsilon, 1-epsilon)\n",
    "        beta = beta + LAMBDA/len(X)*np.dot(y[idx], X[idx].T)*(a_new - a[idx])\n",
    "        a[idx] = a_new\n",
    "\n",
    "    return beta\n",
    "\n",
    "def newton(beta, X, y, tau0, gamma, m):\n",
    "    z = X @ beta\n",
    "    y_weighted = y/(sigmoid(np.dot(y,z)))\n",
    "    \n",
    "    for t in range(m):\n",
    "        W = LAMBDA/len(X)*np.dot(sigmoid(z).reshape((-1, 1)), -sigmoid(z).reshape((1,-1)))\n",
    "        #beta = np.dot(np.dot(np.linalg.inv(np.identity(X.shape[1]) + np.dot(X.T, np.dot(W, X))), X.T), W)@(z + y_weighted)\n",
    "        beta = np.linalg.inv(np.identity(X.shape[1]) + X.T @ W @ X) @ X.T @ W @ (z + y_weighted)\n",
    "    return beta#.reshape((-1))"
   ]
  },
  {
   "cell_type": "markdown",
   "metadata": {},
   "source": [
    "Sampling with replacement because it's easier to implement..."
   ]
  },
  {
   "cell_type": "code",
   "execution_count": 6,
   "metadata": {},
   "outputs": [
    {
     "name": "stderr",
     "output_type": "stream",
     "text": [
      "c:\\users\\bernd\\envs\\ml_homework_downgrade\\lib\\site-packages\\ipykernel_launcher.py:2: RuntimeWarning: overflow encountered in exp\n",
      "  \n"
     ]
    }
   ],
   "source": [
    "class Model(sklearn.base.BaseEstimator):\n",
    "    def __init__(self, func):\n",
    "        self.func=func\n",
    "    def fit(self, X, y):\n",
    "        beta0 = np.zeros(X.shape[-1])\n",
    "        self.beta = self.func(beta0, X, y)\n",
    "        \n",
    "    def predict(self, X):\n",
    "        return predict(self.beta, X)\n",
    "    \n",
    "    def score(self, X, y):\n",
    "        self.y_pred = self.predict(X)\n",
    "        return zero_one_loss(self.y_pred, y)\n",
    "\n",
    "tau0_list = [0, 0.01, 0.1]\n",
    "mu_list = [0.1, 0.2, 0.5]\n",
    "gamma_list = [0.0001, 0.001, 0.01]\n",
    "\n",
    "model = Model(lambda beta, X, y:grad_desc(beta, X, y, 0.1, 0.0001, 1000))\n",
    "model.fit(x_ab, y_ab)\n",
    "#cross_scores = cross_val_score(model, x_ab, y_ab, cv=10)\n",
    "#print(\"Cross-Validation score (10 folds): \", np.mean(cross_scores))"
   ]
  },
  {
   "cell_type": "markdown",
   "metadata": {},
   "source": [
    "# 1.3 Comparison"
   ]
  },
  {
   "cell_type": "code",
   "execution_count": 10,
   "metadata": {},
   "outputs": [
    {
     "name": "stdout",
     "output_type": "stream",
     "text": [
      " ########## Gradient descent #############\n",
      "Cross-Validation score for gamma = 1.00e-04, tau0 = 1.00e-03, (10 folds): 1.60\n",
      "Cross-Validation score for gamma = 1.00e-03, tau0 = 1.00e-03, (10 folds): 1.60\n",
      "Cross-Validation score for gamma = 1.00e-02, tau0 = 1.00e-03, (10 folds): 1.60\n",
      "Cross-Validation score for gamma = 1.00e-04, tau0 = 1.00e-02, (10 folds): 1.60\n",
      "Cross-Validation score for gamma = 1.00e-03, tau0 = 1.00e-02, (10 folds): 1.60\n",
      "Cross-Validation score for gamma = 1.00e-02, tau0 = 1.00e-02, (10 folds): 1.60\n",
      "Cross-Validation score for gamma = 1.00e-04, tau0 = 1.00e-01, (10 folds): 1.60\n",
      "Cross-Validation score for gamma = 1.00e-03, tau0 = 1.00e-01, (10 folds): 1.60\n",
      "Cross-Validation score for gamma = 1.00e-02, tau0 = 1.00e-01, (10 folds): 1.60\n",
      " ########## stochastic descent ########## \n"
     ]
    },
    {
     "name": "stderr",
     "output_type": "stream",
     "text": [
      "c:\\users\\bernd\\envs\\ml_homework_downgrade\\lib\\site-packages\\ipykernel_launcher.py:2: RuntimeWarning: overflow encountered in exp\n",
      "  \n",
      "c:\\users\\bernd\\envs\\ml_homework_downgrade\\lib\\site-packages\\ipykernel_launcher.py:2: RuntimeWarning: overflow encountered in exp\n",
      "  \n",
      "c:\\users\\bernd\\envs\\ml_homework_downgrade\\lib\\site-packages\\ipykernel_launcher.py:2: RuntimeWarning: overflow encountered in exp\n",
      "  \n"
     ]
    },
    {
     "name": "stdout",
     "output_type": "stream",
     "text": [
      "Cross-Validation score for gamma = 1.00e-04, tau0 = 1.00e-03, (10 folds): 2.50\n",
      "Cross-Validation score for gamma = 1.00e-03, tau0 = 1.00e-03, (10 folds): 2.10\n",
      "Cross-Validation score for gamma = 1.00e-02, tau0 = 1.00e-03, (10 folds): 2.40\n",
      "Cross-Validation score for gamma = 1.00e-04, tau0 = 1.00e-02, (10 folds): 13.50\n",
      "Cross-Validation score for gamma = 1.00e-03, tau0 = 1.00e-02, (10 folds): 14.10\n",
      "Cross-Validation score for gamma = 1.00e-02, tau0 = 1.00e-02, (10 folds): 9.10\n",
      "Cross-Validation score for gamma = 1.00e-04, tau0 = 1.00e-01, (10 folds): 17.40\n",
      "Cross-Validation score for gamma = 1.00e-03, tau0 = 1.00e-01, (10 folds): 17.60\n",
      "Cross-Validation score for gamma = 1.00e-02, tau0 = 1.00e-01, (10 folds): 17.80\n",
      " ########## stochastic descent minibatch ########## \n",
      "Cross-Validation score for gamma = 1.00e-04, tau0 = 1.00e-03, (10 folds): 1.40\n",
      "Cross-Validation score for gamma = 1.00e-03, tau0 = 1.00e-03, (10 folds): 1.50\n",
      "Cross-Validation score for gamma = 1.00e-02, tau0 = 1.00e-03, (10 folds): 1.40\n",
      "Cross-Validation score for gamma = 1.00e-04, tau0 = 1.00e-02, (10 folds): 3.00\n",
      "Cross-Validation score for gamma = 1.00e-03, tau0 = 1.00e-02, (10 folds): 1.50\n",
      "Cross-Validation score for gamma = 1.00e-02, tau0 = 1.00e-02, (10 folds): 1.40\n"
     ]
    },
    {
     "name": "stderr",
     "output_type": "stream",
     "text": [
      "c:\\users\\bernd\\envs\\ml_homework_downgrade\\lib\\site-packages\\ipykernel_launcher.py:2: RuntimeWarning: overflow encountered in exp\n",
      "  \n"
     ]
    },
    {
     "name": "stdout",
     "output_type": "stream",
     "text": [
      "Cross-Validation score for gamma = 1.00e-04, tau0 = 1.00e-01, (10 folds): 15.00\n"
     ]
    },
    {
     "name": "stderr",
     "output_type": "stream",
     "text": [
      "c:\\users\\bernd\\envs\\ml_homework_downgrade\\lib\\site-packages\\ipykernel_launcher.py:2: RuntimeWarning: overflow encountered in exp\n",
      "  \n"
     ]
    },
    {
     "name": "stdout",
     "output_type": "stream",
     "text": [
      "Cross-Validation score for gamma = 1.00e-03, tau0 = 1.00e-01, (10 folds): 10.30\n"
     ]
    },
    {
     "name": "stderr",
     "output_type": "stream",
     "text": [
      "c:\\users\\bernd\\envs\\ml_homework_downgrade\\lib\\site-packages\\ipykernel_launcher.py:2: RuntimeWarning: overflow encountered in exp\n",
      "  \n"
     ]
    },
    {
     "name": "stdout",
     "output_type": "stream",
     "text": [
      "Cross-Validation score for gamma = 1.00e-02, tau0 = 1.00e-01, (10 folds): 1.70\n",
      " ########## stochastic descent momentum ########## \n",
      "Cross-Validation score for gamma = 1.00e-04, tau0 = 1.00e-03, mu = 1.00e-01 (10 folds): 4.00\n",
      "Cross-Validation score for gamma = 1.00e-04, tau0 = 1.00e-03, mu = 2.00e-01 (10 folds): 4.20\n",
      "Cross-Validation score for gamma = 1.00e-04, tau0 = 1.00e-03, mu = 5.00e-01 (10 folds): 4.90\n",
      "Cross-Validation score for gamma = 1.00e-03, tau0 = 1.00e-03, mu = 1.00e-01 (10 folds): 3.60\n",
      "Cross-Validation score for gamma = 1.00e-03, tau0 = 1.00e-03, mu = 2.00e-01 (10 folds): 3.40\n",
      "Cross-Validation score for gamma = 1.00e-03, tau0 = 1.00e-03, mu = 5.00e-01 (10 folds): 2.90\n",
      "Cross-Validation score for gamma = 1.00e-02, tau0 = 1.00e-03, mu = 1.00e-01 (10 folds): 2.70\n",
      "Cross-Validation score for gamma = 1.00e-02, tau0 = 1.00e-03, mu = 2.00e-01 (10 folds): 4.00\n",
      "Cross-Validation score for gamma = 1.00e-02, tau0 = 1.00e-03, mu = 5.00e-01 (10 folds): 2.50\n",
      "Cross-Validation score for gamma = 1.00e-04, tau0 = 1.00e-02, mu = 1.00e-01 (10 folds): 15.70\n",
      "Cross-Validation score for gamma = 1.00e-04, tau0 = 1.00e-02, mu = 2.00e-01 (10 folds): 13.10\n",
      "Cross-Validation score for gamma = 1.00e-04, tau0 = 1.00e-02, mu = 5.00e-01 (10 folds): 16.10\n",
      "Cross-Validation score for gamma = 1.00e-03, tau0 = 1.00e-02, mu = 1.00e-01 (10 folds): 13.40\n",
      "Cross-Validation score for gamma = 1.00e-03, tau0 = 1.00e-02, mu = 2.00e-01 (10 folds): 10.50\n",
      "Cross-Validation score for gamma = 1.00e-03, tau0 = 1.00e-02, mu = 5.00e-01 (10 folds): 12.80\n",
      "Cross-Validation score for gamma = 1.00e-02, tau0 = 1.00e-02, mu = 1.00e-01 (10 folds): 5.90\n",
      "Cross-Validation score for gamma = 1.00e-02, tau0 = 1.00e-02, mu = 2.00e-01 (10 folds): 5.70\n",
      "Cross-Validation score for gamma = 1.00e-02, tau0 = 1.00e-02, mu = 5.00e-01 (10 folds): 12.40\n",
      "Cross-Validation score for gamma = 1.00e-04, tau0 = 1.00e-01, mu = 1.00e-01 (10 folds): 17.70\n",
      "Cross-Validation score for gamma = 1.00e-04, tau0 = 1.00e-01, mu = 2.00e-01 (10 folds): 17.90\n",
      "Cross-Validation score for gamma = 1.00e-04, tau0 = 1.00e-01, mu = 5.00e-01 (10 folds): 18.00\n",
      "Cross-Validation score for gamma = 1.00e-03, tau0 = 1.00e-01, mu = 1.00e-01 (10 folds): 17.80\n",
      "Cross-Validation score for gamma = 1.00e-03, tau0 = 1.00e-01, mu = 2.00e-01 (10 folds): 18.20\n",
      "Cross-Validation score for gamma = 1.00e-03, tau0 = 1.00e-01, mu = 5.00e-01 (10 folds): 18.00\n",
      "Cross-Validation score for gamma = 1.00e-02, tau0 = 1.00e-01, mu = 1.00e-01 (10 folds): 18.10\n",
      "Cross-Validation score for gamma = 1.00e-02, tau0 = 1.00e-01, mu = 2.00e-01 (10 folds): 16.30\n",
      "Cross-Validation score for gamma = 1.00e-02, tau0 = 1.00e-01, mu = 5.00e-01 (10 folds): 16.40\n",
      " ########## adam\n",
      "Cross-Validation score for gamma = 1.00e-04, tau0 = 1.00e-03, (10 folds): 18.30\n"
     ]
    },
    {
     "name": "stderr",
     "output_type": "stream",
     "text": [
      "c:\\users\\bernd\\envs\\ml_homework_downgrade\\lib\\site-packages\\ipykernel_launcher.py:48: RuntimeWarning: invalid value encountered in sqrt\n",
      "c:\\users\\bernd\\envs\\ml_homework_downgrade\\lib\\site-packages\\ipykernel_launcher.py:48: RuntimeWarning: invalid value encountered in sqrt\n",
      "c:\\users\\bernd\\envs\\ml_homework_downgrade\\lib\\site-packages\\ipykernel_launcher.py:48: RuntimeWarning: invalid value encountered in sqrt\n"
     ]
    },
    {
     "name": "stdout",
     "output_type": "stream",
     "text": [
      "Cross-Validation score for gamma = 1.00e-03, tau0 = 1.00e-03, (10 folds): 18.30\n",
      "Cross-Validation score for gamma = 1.00e-02, tau0 = 1.00e-03, (10 folds): 18.30\n",
      "Cross-Validation score for gamma = 1.00e-04, tau0 = 1.00e-02, (10 folds): 18.30\n"
     ]
    },
    {
     "name": "stderr",
     "output_type": "stream",
     "text": [
      "c:\\users\\bernd\\envs\\ml_homework_downgrade\\lib\\site-packages\\ipykernel_launcher.py:48: RuntimeWarning: invalid value encountered in sqrt\n",
      "c:\\users\\bernd\\envs\\ml_homework_downgrade\\lib\\site-packages\\ipykernel_launcher.py:48: RuntimeWarning: invalid value encountered in sqrt\n",
      "c:\\users\\bernd\\envs\\ml_homework_downgrade\\lib\\site-packages\\ipykernel_launcher.py:48: RuntimeWarning: invalid value encountered in sqrt\n"
     ]
    },
    {
     "name": "stdout",
     "output_type": "stream",
     "text": [
      "Cross-Validation score for gamma = 1.00e-03, tau0 = 1.00e-02, (10 folds): 18.30\n",
      "Cross-Validation score for gamma = 1.00e-02, tau0 = 1.00e-02, (10 folds): 18.30\n",
      "Cross-Validation score for gamma = 1.00e-04, tau0 = 1.00e-01, (10 folds): 18.30\n",
      "Cross-Validation score for gamma = 1.00e-03, tau0 = 1.00e-01, (10 folds): 18.30"
     ]
    },
    {
     "name": "stderr",
     "output_type": "stream",
     "text": [
      "c:\\users\\bernd\\envs\\ml_homework_downgrade\\lib\\site-packages\\ipykernel_launcher.py:48: RuntimeWarning: invalid value encountered in sqrt\n",
      "c:\\users\\bernd\\envs\\ml_homework_downgrade\\lib\\site-packages\\ipykernel_launcher.py:48: RuntimeWarning: invalid value encountered in sqrt\n",
      "c:\\users\\bernd\\envs\\ml_homework_downgrade\\lib\\site-packages\\ipykernel_launcher.py:48: RuntimeWarning: invalid value encountered in sqrt\n"
     ]
    },
    {
     "name": "stdout",
     "output_type": "stream",
     "text": [
      "\n",
      "Cross-Validation score for gamma = 1.00e-02, tau0 = 1.00e-01, (10 folds): 18.30\n",
      " ########## stochastic average gradient ########## \n",
      "Cross-Validation score for gamma = 1.00e-02, tau0 = 1.00e-03, (10 folds): 1.80\n",
      "Cross-Validation score for gamma = 1.00e-02, tau0 = 1.00e-02, (10 folds): 2.50\n",
      "Cross-Validation score for gamma = 1.00e-02, tau0 = 1.00e-01, (10 folds): 1.90\n",
      " ########## dual coord ########## \n",
      "Cross-Validation score for gamma = 1.00e-04, tau0 = 1.00e-03, (10 folds): 1.80\n",
      "Cross-Validation score for gamma = 1.00e-03, tau0 = 1.00e-03, (10 folds): 2.40\n",
      "Cross-Validation score for gamma = 1.00e-02, tau0 = 1.00e-03, (10 folds): 1.80\n",
      "Cross-Validation score for gamma = 1.00e-04, tau0 = 1.00e-02, (10 folds): 1.80\n",
      "Cross-Validation score for gamma = 1.00e-03, tau0 = 1.00e-02, (10 folds): 2.30\n",
      "Cross-Validation score for gamma = 1.00e-02, tau0 = 1.00e-02, (10 folds): 1.50\n",
      "Cross-Validation score for gamma = 1.00e-04, tau0 = 1.00e-01, (10 folds): 1.90\n",
      "Cross-Validation score for gamma = 1.00e-03, tau0 = 1.00e-01, (10 folds): 1.80\n",
      "Cross-Validation score for gamma = 1.00e-02, tau0 = 1.00e-01, (10 folds): 2.20\n",
      " ########## newton ########## \n",
      "Cross-Validation score for gamma = 1.00e-04, tau0 = 1.00e-03, (10 folds): 17.40\n",
      "Cross-Validation score for gamma = 1.00e-03, tau0 = 1.00e-03, (10 folds): 17.40\n",
      "Cross-Validation score for gamma = 1.00e-02, tau0 = 1.00e-03, (10 folds): 17.40\n",
      "Cross-Validation score for gamma = 1.00e-04, tau0 = 1.00e-02, (10 folds): 17.40\n",
      "Cross-Validation score for gamma = 1.00e-03, tau0 = 1.00e-02, (10 folds): 17.40\n",
      "Cross-Validation score for gamma = 1.00e-02, tau0 = 1.00e-02, (10 folds): 17.40\n",
      "Cross-Validation score for gamma = 1.00e-04, tau0 = 1.00e-01, (10 folds): 17.40\n",
      "Cross-Validation score for gamma = 1.00e-03, tau0 = 1.00e-01, (10 folds): 17.40\n",
      "Cross-Validation score for gamma = 1.00e-02, tau0 = 1.00e-01, (10 folds): 17.40\n"
     ]
    }
   ],
   "source": [
    "class Model(sklearn.base.BaseEstimator):\n",
    "    def __init__(self, func, stupid=False):\n",
    "        self.func=func\n",
    "        self.stupid = stupid\n",
    "\n",
    "    def fit(self, X, y):\n",
    "        beta0 = np.zeros(X.shape[-1])\n",
    "        if not self.stupid:\n",
    "            self.beta = self.func(beta0, X, y)\n",
    "        else:\n",
    "            self.beta = beta0\n",
    "        \n",
    "    def predict(self, X):\n",
    "        return predict(self.beta, X)\n",
    "    \n",
    "    def score(self, X, y):\n",
    "        self.y_pred = self.predict(X)\n",
    "        return zero_one_loss(self.y_pred, y)\n",
    "\n",
    "class RefModel(sklearn.base.BaseEstimator):\n",
    "    def __init__(self):\n",
    "        self.model = lr(C=LAMBDA, max_iter=2000)\n",
    "\n",
    "    def fit(self, X, y):\n",
    "        self.model.fit(X, y)\n",
    "        \n",
    "    def predict(self, X):\n",
    "        return self.model.predict(X)\n",
    "    \n",
    "    def score(self, X, y):\n",
    "        self.y_pred = self.predict(X)\n",
    "        return zero_one_loss(self.y_pred, y)\n",
    "\n",
    "tau0_list = [0.001, 0.01, 0.1]\n",
    "mu_list = [0.1, 0.2, 0.5]\n",
    "gamma_list = [0.0001, 0.001, 0.01]\n",
    "\n",
    "\n",
    "print(' ########## Gradient descent #############')\n",
    "for tau0 in tau0_list:\n",
    "    for gamma in gamma_list:\n",
    "        model = Model(lambda beta, X, y:grad_desc(beta, X, y, tau0, gamma, 10))\n",
    "        cross_scores = cross_val_score(model, x_ab, y_ab, cv=cv)\n",
    "        print(\"Cross-Validation score for gamma = %.2e, tau0 = %.2e, (10 folds): %.2f\"%(gamma, tau0, np.mean(cross_scores)))\n",
    "\n",
    "print(' ########## stochastic descent ########## ')\n",
    "for tau0 in tau0_list:\n",
    "    for gamma in gamma_list:\n",
    "        model = Model(lambda beta, X, y:stoch_grad(beta, X, y, tau0, gamma, 150))\n",
    "        cross_scores = cross_val_score(model, x_ab, y_ab, cv=cv)\n",
    "        print(\"Cross-Validation score for gamma = %.2e, tau0 = %.2e, (10 folds): %.2f\"%(gamma, tau0, np.mean(cross_scores)))\n",
    "\n",
    "print(' ########## stochastic descent minibatch ########## ')\n",
    "for tau0 in tau0_list:\n",
    "    for gamma in gamma_list:\n",
    "        model = Model(lambda beta, X, y:stoch_grad_minibatch(beta, X, y, tau0, gamma, 10000, 10))\n",
    "        cross_scores = cross_val_score(model, x_ab, y_ab, cv=cv)\n",
    "        print(\"Cross-Validation score for gamma = %.2e, tau0 = %.2e, (10 folds): %.2f\"%(gamma, tau0, np.mean(cross_scores)))\n",
    "print(' ########## stochastic descent momentum ########## ')\n",
    "for tau0 in tau0_list:\n",
    "    for gamma in gamma_list:\n",
    "        for mu in mu_list:\n",
    "            model = Model(lambda beta, X, y:stoch_grad_momentum(beta, X, y, tau0, gamma, 150, mu))\n",
    "            cross_scores = cross_val_score(model, x_ab, y_ab, cv=cv)\n",
    "            print(\"Cross-Validation score for gamma = %.2e, tau0 = %.2e, mu = %.2e (10 folds): %.2f\"%(gamma, tau0, mu, np.mean(cross_scores)))\n",
    "print(' ########## adam')\n",
    "for tau0 in tau0_list:\n",
    "    for gamma in gamma_list:\n",
    "        model = Model(lambda beta, X, y:adam(beta, X, y, tau0, gamma, 150, 0.9, 0.999))\n",
    "        cross_scores = cross_val_score(model, x_ab, y_ab, cv=cv)\n",
    "        print(\"Cross-Validation score for gamma = %.2e, tau0 = %.2e, (10 folds): %.2f\"%(gamma, tau0, np.mean(cross_scores)))\n",
    "print(' ########## stochastic average gradient ########## ')\n",
    "for tau0 in tau0_list:\n",
    "    for gamma in gamma_list:\n",
    "        model = Model(lambda beta, X, y:stoch_avg_grad(beta, X, y, tau0, gamma, 150))\n",
    "        cross_scores = cross_val_score(model, x_ab, y_ab, cv=cv)\n",
    "    print(\"Cross-Validation score for gamma = %.2e, tau0 = %.2e, (10 folds): %.2f\"%(gamma, tau0, np.mean(cross_scores)))\n",
    "\n",
    "print(' ########## dual coord ########## ')\n",
    "for tau0 in tau0_list:\n",
    "    for gamma in gamma_list:\n",
    "        model = Model(lambda beta, X, y:dual_coord_asc(beta, X, y, tau0, gamma, 150))\n",
    "        cross_scores = cross_val_score(model, x_ab, y_ab, cv=cv)\n",
    "        print(\"Cross-Validation score for gamma = %.2e, tau0 = %.2e, (10 folds): %.2f\"%(gamma, tau0, np.mean(cross_scores)))\n",
    "\n",
    "print(' ########## newton ########## ')\n",
    "for tau0 in tau0_list:\n",
    "    for gamma in gamma_list:\n",
    "        model = Model(lambda beta, X, y:newton(beta, X, y, tau0, gamma, 150))\n",
    "        cross_scores = cross_val_score(model, x_ab, y_ab, cv=cv)\n",
    "        print(\"Cross-Validation score for gamma = %.2e, tau0 = %.2e, (10 folds): %.2f\"%(gamma, tau0, np.mean(cross_scores)))\n"
   ]
  },
  {
   "cell_type": "markdown",
   "metadata": {},
   "source": [
    "ADAM and Newton don't converge at all, the others converge, but not necessarily to the same value."
   ]
  },
  {
   "cell_type": "code",
   "execution_count": 9,
   "metadata": {},
   "outputs": [
    {
     "name": "stderr",
     "output_type": "stream",
     "text": [
      "c:\\users\\bernd\\envs\\ml_homework_downgrade\\lib\\site-packages\\ipykernel_launcher.py:2: RuntimeWarning: overflow encountered in exp\n",
      "  \n"
     ]
    },
    {
     "data": {
      "image/png": "[encoded data removed]",
      "text/plain": [
       "<Figure size 864x720 with 1 Axes>"
      ]
     },
     "metadata": {
      "needs_background": "light"
     },
     "output_type": "display_data"
    },
    {
     "data": {
      "image/png": "[encoded data removed]",
      "text/plain": [
       "<Figure size 864x720 with 1 Axes>"
      ]
     },
     "metadata": {
      "needs_background": "light"
     },
     "output_type": "display_data"
    }
   ],
   "source": [
    "# Speed test and plotting\n",
    "\n",
    "N_iter_arr = np.logspace(1, 4, 30).astype(int)\n",
    "X_train, X_test, y_train, y_test = model_selection.train_test_split(x_ab, y_ab, test_size=0.2, random_state=12)\n",
    "\n",
    "\n",
    "GD_score_train = np.zeros(N_iter_arr.shape)\n",
    "GD_score_test = np.zeros(N_iter_arr.shape)\n",
    "\n",
    "for i, N_iter in enumerate((N_iter_arr/256).astype(int)):\n",
    "    model = Model(lambda beta, X, y:grad_desc(beta, X, y, 0.1, 0.01, N_iter))\n",
    "    model.fit(X_train, y_train)\n",
    "    GD_score_train[i] = model.score(X_train, y_train)\n",
    "    GD_score_test[i] = model.score(X_test, y_test)\n",
    "\n",
    "\n",
    "SGD_score_train = np.zeros(N_iter_arr.shape)\n",
    "SGD_score_test = np.zeros(N_iter_arr.shape)\n",
    "\n",
    "for i, N_iter in enumerate(N_iter_arr):\n",
    "    model = Model(lambda beta, X, y:stoch_grad(beta, X, y, 1e-3, 1e-2, N_iter))\n",
    "    model.fit(X_train, y_train)\n",
    "    SGD_score_train[i] = model.score(X_train, y_train)\n",
    "    SGD_score_test[i] = model.score(X_test, y_test)\n",
    "\n",
    "\n",
    "SGD_min_score_train = np.zeros(N_iter_arr.shape)\n",
    "SGD_min_score_test = np.zeros(N_iter_arr.shape)\n",
    "\n",
    "for i, N_iter in enumerate((N_iter_arr/10).astype(int)):\n",
    "    model = Model(lambda beta, X, y:stoch_grad_minibatch(beta, X, y, 1e-3, 1e-2, N_iter, 10))\n",
    "    model.fit(X_train, y_train)\n",
    "    SGD_min_score_train[i] = model.score(X_train, y_train)\n",
    "    SGD_min_score_test[i] = model.score(X_test, y_test)\n",
    "\n",
    "\n",
    "SGD_mom_score_train = np.zeros(N_iter_arr.shape)\n",
    "SGD_mom_score_test = np.zeros(N_iter_arr.shape)\n",
    "\n",
    "for i, N_iter in enumerate(N_iter_arr):\n",
    "    model = Model(lambda beta, X, y:stoch_grad_momentum(beta, X, y, 1e-3, 1e-2, N_iter, 5e-1))\n",
    "    model.fit(X_train, y_train)\n",
    "    SGD_mom_score_train[i] = model.score(X_train, y_train)\n",
    "    SGD_mom_score_test[i] = model.score(X_test, y_test)\n",
    "\n",
    "'''\n",
    "ADAM_score_train = np.zeros(N_iter_arr.shape)\n",
    "ADAM_score_test = np.zeros(N_iter_arr.shape)\n",
    "\n",
    "for i, N_iter in enumerate(N_iter_arr):\n",
    "    model = Model(lambda beta, X, y:adam(beta, X, y, 1e-2, 1e-2, N_iter, 0.9, 0.999))\n",
    "    model.fit(X_train, y_train)\n",
    "    ADAM_score_train[i] = model.score(X_train, y_train)\n",
    "    ADAM_score_test[i] = model.score(X_test, y_test)\n",
    "\n",
    "SGD_avg_score_train = np.zeros(N_iter_arr.shape)\n",
    "SGD_avg_score_test = np.zeros(N_iter_arr.shape)\n",
    "\n",
    "for i, N_iter in enumerate(N_iter_arr):\n",
    "    model = Model(lambda beta, X, y:stoch_avg_grad(beta, X, y, 1e-2, 1e-2, N_iter))\n",
    "    model.fit(X_train, y_train)\n",
    "    SGD_avg_score_train[i] = model.score(X_train, y_train)\n",
    "    SGD_avg_score_test[i] = model.score(X_test, y_test)\n",
    "\n",
    "dual_score_train = np.zeros(N_iter_arr.shape)\n",
    "dual_score_test = np.zeros(N_iter_arr.shape)\n",
    "\n",
    "for i, N_iter in enumerate(N_iter_arr):\n",
    "    model = Model(lambda beta, X, y:dual_coord_asc(beta, X, y, 1e-2, 1e-2, N_iter))\n",
    "    model.fit(X_train, y_train)\n",
    "    dual_score_train[i] = model.score(X_train, y_train)\n",
    "    dual_score_test[i] = model.score(X_test, y_test)\n",
    "\n",
    "newton_score_train = np.zeros(N_iter_arr.shape)\n",
    "newton_score_test = np.zeros(N_iter_arr.shape)\n",
    "\n",
    "for i, N_iter in enumerate(N_iter_arr):\n",
    "    model = Model(lambda beta, X, y:newton(beta, X, y, 1e-2, 1e-2, N_iter))\n",
    "    model.fit(X_train, y_train)\n",
    "    newton_score_train[i] = model.score(X_train, y_train)\n",
    "    newton_score_test[i] = model.score(X_test, y_test)\n",
    "\n",
    "'''\n",
    "\n",
    "N = 256\n",
    "D = 65\n",
    "B = 10\n",
    "\n",
    "T_GD_arr = N_iter_arr# * N * D\n",
    "T_SGD_arr = N_iter_arr# * D\n",
    "T_SGD_min_arr = N_iter_arr# * D * B\n",
    "\n",
    "# train plot\n",
    "plt.figure(0, figsize=((12, 10)))\n",
    "plt.title(\"Training comparison\")\n",
    "plt.plot(T_GD_arr, GD_score_train, '.-', label='GD')\n",
    "plt.plot(T_SGD_arr, SGD_score_train, '.-', label='SGD')\n",
    "plt.plot(T_SGD_min_arr, SGD_min_score_train, '.-', label='SGD min')\n",
    "plt.plot(T_SGD_arr, SGD_mom_score_train, '.-', label='SGD mom')\n",
    "# plt.yscale('log')\n",
    "# plt.xscale('log')\n",
    "plt.ylabel(\"score\")\n",
    "plt.xlabel(\"T\")\n",
    "plt.legend()\n",
    "plt.grid()\n",
    "plt.savefig(\"training_comp.png\")\n",
    "plt.show()\n",
    "\n",
    "# train plot\n",
    "plt.figure(1, figsize=((12, 10)))\n",
    "plt.title(\"Test comparison\")\n",
    "plt.plot(T_GD_arr, GD_score_test, '.-', label='GD')\n",
    "plt.plot(T_SGD_arr, SGD_score_test, '.-', label='SGD')\n",
    "plt.plot(T_SGD_min_arr, SGD_min_score_test, '.-', label='SGD min')\n",
    "plt.plot(T_SGD_arr, SGD_mom_score_test, '.-', label='SGD mom')\n",
    "plt.ylabel(\"score\")\n",
    "plt.xlabel(\"T\")\n",
    "plt.legend()\n",
    "plt.grid()\n",
    "plt.savefig(\"test_comp.png\")\n",
    "plt.show()"
   ]
  },
  {
   "cell_type": "markdown",
   "metadata": {},
   "source": [
    "Convergence time scaled to make prettier plots.\n",
    "\n",
    "Gradient descent converges weirdly, couldn't find any errors in time though.\n",
    "\n",
    "Other methods converge (?), but not really the way we'd want them to.\n",
    "\n",
    "Not really sure what the issue could be."
   ]
  }
 ],
 "metadata": {
  "kernelspec": {
   "display_name": "Python 3",
   "language": "python",
   "name": "python3"
  },
  "language_info": {
   "codemirror_mode": {
    "name": "ipython",
    "version": 3
   },
   "file_extension": ".py",
   "mimetype": "text/x-python",
   "name": "python",
   "nbconvert_exporter": "python",
   "pygments_lexer": "ipython3",
   "version": "3.7.6"
  }
 },
 "nbformat": 4,
 "nbformat_minor": 4
}
