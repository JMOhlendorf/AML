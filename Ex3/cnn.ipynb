{
 "cells": [
  {
   "cell_type": "code",
   "execution_count": 1,
   "metadata": {},
   "outputs": [],
   "source": [
    "import numpy as np\n",
    "import matplotlib.pyplot as plt\n",
    "\n",
    "import torch\n",
    "import torch.optim\n",
    "\n",
    "import torchvision\n",
    "import torchvision.datasets as dset\n",
    "import torchvision.transforms as transforms\n",
    "\n",
    "from torch.nn.functional import conv2d, max_pool2d\n",
    "\n",
    "import pickle"
   ]
  },
  {
   "cell_type": "code",
   "execution_count": 2,
   "metadata": {},
   "outputs": [],
   "source": [
    "mb_size = 100 # mini-batch size of 100\n",
    "\n",
    "\n",
    "trans = transforms.Compose([transforms.ToTensor(),\n",
    "                            transforms.Normalize((0.5,), (0.5,))])\n",
    "\n",
    "\n",
    "dataset = dset.MNIST(\"./\", download = True,\n",
    "                     train = True,\n",
    "                     transform = trans)\n",
    "\n",
    "test_dataset = dset.MNIST(\"./\", download=True,\n",
    "                          train=False,\n",
    "                          transform = trans)\n",
    "\n",
    "\n",
    "dataloader = torch.utils.data.DataLoader(dataset, batch_size=mb_size,\n",
    "                                         shuffle=True, num_workers=1,\n",
    "                                         pin_memory=True)\n",
    "\n",
    "test_loader = torch.utils.data.DataLoader(test_dataset, batch_size=mb_size,\n",
    "                                          shuffle=True, num_workers=1,\n",
    "                                          pin_memory=True)"
   ]
  },
  {
   "cell_type": "markdown",
   "metadata": {},
   "source": [
    "## 1 Introduction"
   ]
  },
  {
   "cell_type": "code",
   "execution_count": 3,
   "metadata": {},
   "outputs": [],
   "source": [
    "def init_weights(shape):\n",
    "    # Kaiming He initialization (a good initialization is important)\n",
    "    # https://arxiv.org/abs/1502.01852\n",
    "    std = np.sqrt(2. / shape[0])\n",
    "    w = torch.randn(size=shape) * std\n",
    "    w.requires_grad = True\n",
    "    return w\n",
    "\n",
    "\n",
    "def rectify(X):\n",
    "    return torch.max(torch.zeros_like(X), X)\n",
    "\n",
    "\n",
    "# this is an example as a reduced version of the pytorch internal RMSprop optimizer\n",
    "class RMSprop(torch.optim.Optimizer):\n",
    "    def __init__(self, params, lr=1e-3, alpha=0.5, eps=1e-8):\n",
    "        defaults = dict(lr=lr, alpha=alpha, eps=eps)\n",
    "        super(RMSprop, self).__init__(params, defaults)\n",
    "\n",
    "    def step(self):\n",
    "        for group in self.param_groups:\n",
    "            for p in group['params']:\n",
    "                grad = p.grad.data\n",
    "                state = self.state[p]\n",
    "\n",
    "                # State initialization\n",
    "                if len(state) == 0:\n",
    "                    state['square_avg'] = torch.zeros_like(p.data)\n",
    "\n",
    "                square_avg = state['square_avg']\n",
    "                alpha = group['alpha']\n",
    "\n",
    "                # update running averages\n",
    "                square_avg.mul_(alpha).addcmul_(grad, grad, value=1-alpha)\n",
    "                avg = square_avg.sqrt().add_(group['eps'])\n",
    "\n",
    "                # gradient update\n",
    "                p.data.addcdiv_(grad, avg, value=-group['lr'])\n",
    "\n",
    "\n",
    "def model(X, w_h, w_h2, w_o):\n",
    "    h = rectify(X @ w_h)\n",
    "    h2 = rectify(h @ w_h2)\n",
    "    pre_softmax = h2 @ w_o\n",
    "    return pre_softmax"
   ]
  },
  {
   "cell_type": "code",
   "execution_count": 4,
   "metadata": {},
   "outputs": [
    {
     "name": "stdout",
     "output_type": "stream",
     "text": [
      "Epoch: 1\n",
      "Average Train Loss: 0.39889439940452576\n",
      "Average Test Loss: 0.3027656078338623\n",
      "Epoch: 2\n",
      "Epoch: 3\n",
      "Epoch: 4\n",
      "Epoch: 5\n",
      "Epoch: 6\n",
      "Epoch: 7\n",
      "Epoch: 8\n",
      "Epoch: 9\n",
      "Epoch: 10\n",
      "Epoch: 11\n",
      "Average Train Loss: 0.15847530961036682\n",
      "Average Test Loss: 0.3246176242828369\n",
      "Epoch: 12\n",
      "Epoch: 13\n",
      "Epoch: 14\n",
      "Epoch: 15\n",
      "Epoch: 16\n",
      "Epoch: 17\n",
      "Epoch: 18\n",
      "Epoch: 19\n",
      "Epoch: 20\n",
      "Epoch: 21\n",
      "Average Train Loss: 0.10855640470981598\n",
      "Average Test Loss: 0.3444851040840149\n",
      "Epoch: 22\n",
      "Epoch: 23\n",
      "Epoch: 24\n",
      "Epoch: 25\n",
      "Epoch: 26\n",
      "Epoch: 27\n",
      "Epoch: 28\n",
      "Epoch: 29\n",
      "Epoch: 30\n",
      "Epoch: 31\n",
      "Average Train Loss: 0.06587997078895569\n",
      "Average Test Loss: 0.6349341869354248\n",
      "Epoch: 32\n",
      "Epoch: 33\n",
      "Epoch: 34\n",
      "Epoch: 35\n",
      "Epoch: 36\n",
      "Epoch: 37\n",
      "Epoch: 38\n",
      "Epoch: 39\n",
      "Epoch: 40\n",
      "Epoch: 41\n",
      "Average Train Loss: 0.04680406674742699\n",
      "Average Test Loss: 0.8158227801322937\n",
      "Epoch: 42\n",
      "Epoch: 43\n",
      "Epoch: 44\n",
      "Epoch: 45\n",
      "Epoch: 46\n",
      "Epoch: 47\n",
      "Epoch: 48\n",
      "Epoch: 49\n",
      "Epoch: 50\n",
      "Epoch: 51\n",
      "Average Train Loss: 0.04137413948774338\n",
      "Average Test Loss: 0.7010069489479065\n",
      "Epoch: 52\n",
      "Epoch: 53\n",
      "Epoch: 54\n",
      "Epoch: 55\n",
      "Epoch: 56\n",
      "Epoch: 57\n",
      "Epoch: 58\n",
      "Epoch: 59\n",
      "Epoch: 60\n",
      "Epoch: 61\n",
      "Average Train Loss: 0.031065454706549644\n",
      "Average Test Loss: 0.9092004895210266\n",
      "Epoch: 62\n",
      "Epoch: 63\n",
      "Epoch: 64\n",
      "Epoch: 65\n",
      "Epoch: 66\n",
      "Epoch: 67\n",
      "Epoch: 68\n",
      "Epoch: 69\n",
      "Epoch: 70\n",
      "Epoch: 71\n",
      "Average Train Loss: 0.024617426097393036\n",
      "Average Test Loss: 0.8929126262664795\n",
      "Epoch: 72\n",
      "Epoch: 73\n",
      "Epoch: 74\n",
      "Epoch: 75\n",
      "Epoch: 76\n",
      "Epoch: 77\n",
      "Epoch: 78\n",
      "Epoch: 79\n",
      "Epoch: 80\n",
      "Epoch: 81\n",
      "Average Train Loss: 0.016183141618967056\n",
      "Average Test Loss: 0.9374788403511047\n",
      "Epoch: 82\n",
      "Epoch: 83\n",
      "Epoch: 84\n",
      "Epoch: 85\n",
      "Epoch: 86\n",
      "Epoch: 87\n",
      "Epoch: 88\n",
      "Epoch: 89\n",
      "Epoch: 90\n",
      "Epoch: 91\n",
      "Average Train Loss: 0.008883452042937279\n",
      "Average Test Loss: 0.8933591246604919\n",
      "Epoch: 92\n",
      "Epoch: 93\n",
      "Epoch: 94\n",
      "Epoch: 95\n",
      "Epoch: 96\n",
      "Epoch: 97\n",
      "Epoch: 98\n",
      "Epoch: 99\n",
      "Epoch: 100\n",
      "Epoch: 101\n",
      "Average Train Loss: 0.012486289255321026\n",
      "Average Test Loss: 0.9174650311470032\n"
     ]
    }
   ],
   "source": [
    "w_h = init_weights((784, 625))\n",
    "w_h2 = init_weights((625, 625))\n",
    "w_o = init_weights((625, 10))\n",
    "\n",
    "optimizer = RMSprop([w_h, w_h2, w_o])\n",
    "\n",
    "\n",
    "# put this into a training loop over 100 epochs\n",
    "for i in range(101):\n",
    "    print(\"Epoch: {}\".format(i+1))\n",
    "    avg_train_loss = 0.\n",
    "    for (j, (X, y)) in enumerate(dataloader):\n",
    "        noise_py_x = model(X.reshape(mb_size, 784), w_h, w_h2, w_o)\n",
    "        optimizer.zero_grad()\n",
    "        # the cross-entropy loss function already contains the softmax\n",
    "        cost = torch.nn.functional.cross_entropy(noise_py_x, y, reduction=\"mean\")\n",
    "        avg_train_loss += cost\n",
    "        cost.backward()\n",
    "        optimizer.step()\n",
    "\n",
    "    if i % 10 == 0:\n",
    "        print(\"Average Train Loss: {}\".format(avg_train_loss / (j + 1)))\n",
    "\n",
    "        # no need to calculate gradients for validation\n",
    "        with torch.no_grad():\n",
    "            avg_test_loss = 0.\n",
    "            for (k, (X, y)) in enumerate(test_loader):\n",
    "                noise_py_x = model(X.reshape(mb_size, 784), w_h, w_h2, w_o)\n",
    "                cost = torch.nn.functional.cross_entropy(noise_py_x, y, reduction=\"mean\")\n",
    "                avg_test_loss += cost\n",
    "\n",
    "            print(\"Average Test Loss: {}\".format(avg_test_loss / (k + 1)))\n"
   ]
  },
  {
   "cell_type": "markdown",
   "metadata": {},
   "source": [
    "## 2 Dropout"
   ]
  },
  {
   "cell_type": "code",
   "execution_count": 5,
   "metadata": {},
   "outputs": [],
   "source": [
    "# dropout function\n",
    "def dropout(X, p_drop=0.5):\n",
    "    if (0 < p_drop < 1):\n",
    "        bernoulli = torch.bernoulli(torch.empty(X.shape).fill_(p_drop))\n",
    "        X[bernoulli == 1.0] = 0\n",
    "        X = X / (1- p_drop)\n",
    "        return X\n",
    "    else:\n",
    "        return X\n",
    "    \n",
    "def model_dropout(X, w_h, w_h2, w_o, p_drop_input, p_drop_hidden):\n",
    "    X_drop = dropout(X, p_drop_input)\n",
    "    h = rectify(X_drop @ w_h)\n",
    "    h_drop = dropout(h, p_drop_hidden)\n",
    "    h2 = rectify(h_drop @ w_h2)\n",
    "    h2_drop = dropout(h2, p_drop_hidden)\n",
    "    pre_softmax = h2_drop @ w_o\n",
    "    return pre_softmax\n",
    "\n",
    "w_h = init_weights((784, 625))\n",
    "w_h2 = init_weights((625, 625))\n",
    "w_o = init_weights((625, 10))\n",
    "\n",
    "optimizer = RMSprop([w_h, w_h2, w_o])\n",
    "\n",
    "p_drop_input = 0.3\n",
    "p_drop_hidden = 0.5\n",
    "\n",
    "# put this into a training loop over 100 epochs\n",
    "def training(epochs=100, drop=True):\n",
    "    train_loss = []\n",
    "    test_loss = []\n",
    "    for i in range(epochs + 1):\n",
    "        print(\"Epoch: {}\".format(i+1))\n",
    "        avg_train_loss = 0.\n",
    "        for (j, (X, y)) in enumerate(dataloader):\n",
    "            if drop:\n",
    "                noise_py_x = model_dropout(X.reshape(mb_size, 784), w_h, w_h2, w_o, p_drop_input, p_drop_hidden)\n",
    "            else:\n",
    "                noise_py_x = model(X.reshape(mb_size, 784), w_h, w_h2, w_o)\n",
    "            optimizer.zero_grad()\n",
    "            # the cross-entropy loss function already contains the softmax\n",
    "            cost = torch.nn.functional.cross_entropy(noise_py_x, y, reduction=\"mean\")\n",
    "            avg_train_loss += cost\n",
    "            cost.backward()\n",
    "            optimizer.step()\n",
    "\n",
    "        train_loss.append(float(avg_train_loss / (j + 1)))\n",
    "        if i % 10 == 0:\n",
    "            print(\"Average Train Loss: {}\".format(avg_train_loss / (j + 1)))\n",
    "    \n",
    "            # no need to calculate gradients for validation\n",
    "            with torch.no_grad():\n",
    "                avg_test_loss = 0.\n",
    "                for (k, (X, y)) in enumerate(test_loader):\n",
    "                    if drop:\n",
    "                        # using weight scaling inference for testing\n",
    "                        noise_py_x = model_dropout(X.reshape(mb_size, 784), p_drop_input * w_h, p_drop_hidden * w_h2,\n",
    "                                       p_drop_hidden * w_o, p_drop_input, p_drop_hidden)\n",
    "                    else:\n",
    "                        noise_py_x = model(X.reshape(mb_size, 784), w_h, w_h2, w_o)\n",
    "                    cost = torch.nn.functional.cross_entropy(noise_py_x, y, reduction=\"mean\")\n",
    "                    avg_test_loss += cost\n",
    "                test_loss.append(float(avg_test_loss / (k + 1)))\n",
    "                print(\"Average Test Loss: {}\".format(avg_test_loss / (k + 1)))\n",
    "    \n",
    "    train_loss = np.array(train_loss)\n",
    "    test_loss = np.array(test_loss)\n",
    "    return train_loss, test_loss"
   ]
  },
  {
   "cell_type": "code",
   "execution_count": 7,
   "metadata": {},
   "outputs": [
    {
     "name": "stdout",
     "output_type": "stream",
     "text": [
      "TASK1\n",
      "Epoch: 1\n",
      "Average Train Loss: 0.3943944573402405\n",
      "Average Test Loss: 0.16676922142505646\n",
      "Epoch: 2\n",
      "Epoch: 3\n",
      "Epoch: 4\n",
      "Epoch: 5\n",
      "Epoch: 6\n",
      "Epoch: 7\n",
      "Epoch: 8\n",
      "Epoch: 9\n",
      "Epoch: 10\n",
      "Epoch: 11\n",
      "Average Train Loss: 0.15208664536476135\n",
      "Average Test Loss: 0.3142150938510895\n",
      "Epoch: 12\n",
      "Epoch: 13\n",
      "Epoch: 14\n",
      "Epoch: 15\n",
      "Epoch: 16\n",
      "Epoch: 17\n",
      "Epoch: 18\n",
      "Epoch: 19\n",
      "Epoch: 20\n",
      "Epoch: 21\n",
      "Average Train Loss: 0.10455688834190369\n",
      "Average Test Loss: 0.5621062517166138\n",
      "Epoch: 22\n",
      "Epoch: 23\n",
      "Epoch: 24\n",
      "Epoch: 25\n",
      "Epoch: 26\n",
      "Epoch: 27\n",
      "Epoch: 28\n",
      "Epoch: 29\n",
      "Epoch: 30\n",
      "Epoch: 31\n",
      "Average Train Loss: 0.06966216117143631\n",
      "Average Test Loss: 0.46552586555480957\n",
      "Epoch: 32\n",
      "Epoch: 33\n",
      "Epoch: 34\n",
      "Epoch: 35\n",
      "Epoch: 36\n",
      "Epoch: 37\n",
      "Epoch: 38\n",
      "Epoch: 39\n",
      "Epoch: 40\n",
      "Epoch: 41\n",
      "Average Train Loss: 0.05236726254224777\n",
      "Average Test Loss: 0.7477063536643982\n",
      "Epoch: 42\n",
      "Epoch: 43\n",
      "TASK2\n",
      "Epoch: 1\n",
      "Average Train Loss: 2.519752264022827\n",
      "Average Test Loss: 0.5199432969093323\n",
      "Epoch: 2\n",
      "Epoch: 3\n",
      "Epoch: 4\n",
      "Epoch: 5\n",
      "Epoch: 6\n",
      "Epoch: 7\n",
      "Epoch: 8\n",
      "Epoch: 9\n",
      "Epoch: 10\n",
      "Epoch: 11\n",
      "Average Train Loss: 0.9992949366569519\n",
      "Average Test Loss: 0.5141828656196594\n",
      "Epoch: 12\n",
      "Epoch: 13\n",
      "Epoch: 14\n",
      "Epoch: 15\n",
      "Epoch: 16\n",
      "Epoch: 17\n",
      "Epoch: 18\n",
      "Epoch: 19\n",
      "Epoch: 20\n",
      "Epoch: 21\n",
      "Average Train Loss: 1.1519370079040527\n",
      "Average Test Loss: 0.5058807730674744\n",
      "Epoch: 22\n",
      "Epoch: 23\n",
      "Epoch: 24\n",
      "Epoch: 25\n",
      "Epoch: 26\n",
      "Epoch: 27\n",
      "Epoch: 28\n",
      "Epoch: 29\n",
      "Epoch: 30\n",
      "Epoch: 31\n",
      "Average Train Loss: 1.279000997543335\n",
      "Average Test Loss: 0.5471014976501465\n",
      "Epoch: 32\n",
      "Epoch: 33\n",
      "Epoch: 34\n",
      "Epoch: 35\n",
      "Epoch: 36\n",
      "Epoch: 37\n",
      "Epoch: 38\n",
      "Epoch: 39\n",
      "Epoch: 40\n",
      "Epoch: 41\n",
      "Average Train Loss: 1.380552053451538\n",
      "Average Test Loss: 0.5611656904220581\n",
      "Epoch: 42\n",
      "Epoch: 43\n"
     ]
    }
   ],
   "source": [
    "##########\n",
    "# Task 1:\n",
    "print(\"TASK1\")\n",
    "train_loss1, test_loss1 = training(epochs=42, drop=False)\n",
    "\n",
    "#########\n",
    "# Task 2:\n",
    "print(\"TASK2\")\n",
    "train_loss2, test_loss2 = training(epochs=42)"
   ]
  },
  {
   "cell_type": "code",
   "execution_count": 8,
   "metadata": {},
   "outputs": [
    {
     "data": {
      "image/png": "[encoded data removed]",
      "text/plain": [
       "<Figure size 432x288 with 1 Axes>"
      ]
     },
     "metadata": {
      "needs_background": "light"
     },
     "output_type": "display_data"
    },
    {
     "data": {
      "image/png": "[encoded data removed]",
      "text/plain": [
       "<Figure size 432x288 with 1 Axes>"
      ]
     },
     "metadata": {
      "needs_background": "light"
     },
     "output_type": "display_data"
    }
   ],
   "source": [
    "epochs = 40\n",
    "epoch_list = np.linspace(1, epochs, int(epochs/10)+1)\n",
    "\n",
    "plt.figure(0)\n",
    "plt.title('Without dropout')\n",
    "plt.plot(epoch_list, train_loss1[::10], '.-', label='train')\n",
    "plt.plot(epoch_list, test_loss1, '.-', label='test')\n",
    "plt.ylabel('loss')\n",
    "plt.xlabel('epochs')\n",
    "plt.legend()\n",
    "plt.grid()\n",
    "plt.show()\n",
    "\n",
    "plt.figure(0)\n",
    "plt.title('With dropout')\n",
    "plt.plot(epoch_list, train_loss2[::10], '.-', label='train')\n",
    "plt.plot(epoch_list, test_loss2, '.-', label='test')\n",
    "plt.ylabel('loss')\n",
    "plt.xlabel('epochs')\n",
    "plt.legend()\n",
    "plt.grid()\n",
    "plt.show()"
   ]
  },
  {
   "cell_type": "code",
   "execution_count": 9,
   "metadata": {},
   "outputs": [
    {
     "name": "stdout",
     "output_type": "stream",
     "text": [
      "Results without dropout:\n",
      "Final train loss: 0.05236726254224777\n",
      "Final test loss: 0.7477063536643982\n",
      "Results with dropout:\n",
      "Final train loss: 1.380552053451538\n",
      "Final test loss: 0.5611656904220581\n"
     ]
    }
   ],
   "source": [
    "print('Results without dropout:')\n",
    "print('Final train loss:', train_loss1[-3])\n",
    "print('Final test loss:', test_loss1[-1])\n",
    "\n",
    "print('Results with dropout:')\n",
    "print('Final train loss:', train_loss2[-3])\n",
    "print('Final test loss:', test_loss2[-1])"
   ]
  },
  {
   "cell_type": "markdown",
   "metadata": {},
   "source": [
    "The dropout process makes training noisy, which essentially means going through many different network architectures. Hence, the risk of overfitting is greatly reduced. For the test loss the weights need to be multiplied by the dropout probability (weight scaling inference). This ensures that the expected output stays the same as during training."
   ]
  },
  {
   "cell_type": "markdown",
   "metadata": {},
   "source": [
    "## 4 Convolutional layers"
   ]
  },
  {
   "cell_type": "code",
   "execution_count": 10,
   "metadata": {},
   "outputs": [],
   "source": [
    "def init_weights(shapes):\n",
    "    weights = []\n",
    "    # Kaiming He initialization (a good initialization is important)\n",
    "    # https://arxiv.org/abs/1502.01852\n",
    "    for shape in shapes:\n",
    "        std = np.sqrt(2. / shape[0])\n",
    "        w = torch.randn(size=shape) * std\n",
    "        w.requires_grad = True\n",
    "        weights.append(w)\n",
    "    return weights"
   ]
  },
  {
   "cell_type": "code",
   "execution_count": 20,
   "metadata": {},
   "outputs": [
    {
     "name": "stdout",
     "output_type": "stream",
     "text": [
      "Epoch: 1\n",
      "Average Train Loss: 1.1873118877410889\n",
      "Average Test Loss: 0.3407914340496063\n",
      "Epoch: 2\n",
      "Average Train Loss: 0.2929564118385315\n",
      "Average Test Loss: 0.23463989794254303\n",
      "Epoch: 3\n",
      "Average Train Loss: 0.22214281558990479\n",
      "Average Test Loss: 0.1951865404844284\n",
      "Epoch: 4\n",
      "Average Train Loss: 0.19791311025619507\n",
      "Average Test Loss: 0.17315958440303802\n",
      "Epoch: 5\n",
      "Average Train Loss: 0.19016674160957336\n",
      "Average Test Loss: 0.16256782412528992\n",
      "Epoch: 6\n",
      "Average Train Loss: 0.20227564871311188\n",
      "Average Test Loss: 0.2000419646501541\n",
      "Epoch: 7\n",
      "Average Train Loss: 0.21464470028877258\n",
      "Average Test Loss: 0.22420890629291534\n",
      "Epoch: 8\n",
      "Average Train Loss: 0.2236519306898117\n",
      "Average Test Loss: 0.2114133983850479\n",
      "Epoch: 9\n",
      "Average Train Loss: 0.24729520082473755\n",
      "Average Test Loss: 0.2079772800207138\n",
      "Epoch: 10\n",
      "Average Train Loss: 0.24928107857704163\n",
      "Average Test Loss: 0.22766821086406708\n",
      "Epoch: 11\n",
      "Average Train Loss: 0.2624475359916687\n",
      "Average Test Loss: 0.2664923369884491\n"
     ]
    }
   ],
   "source": [
    "def model(X, weights):\n",
    "    convolutional_layer_1 = rectify(conv2d(X, weights[0]))\n",
    "    subsampling_layer_1 = max_pool2d(convolutional_layer_1, (2, 2))\n",
    "    drop_layer_1 = dropout(subsampling_layer_1, 0.2)\n",
    "\n",
    "    convolutional_layer_2 = rectify(conv2d(drop_layer_1, weights[1]))\n",
    "    subsampling_layer_2 = max_pool2d(convolutional_layer_2, (2, 2))\n",
    "    drop_layer_2 = dropout(subsampling_layer_2, 0.2)\n",
    "\n",
    "    convolutional_layer_3 = rectify(conv2d(drop_layer_2, weights[2]))\n",
    "    subsampling_layer_3 = max_pool2d(convolutional_layer_3, (2, 2))\n",
    "    drop_layer_3 = dropout(subsampling_layer_3, 0.2)\n",
    "\n",
    "    h = torch.reshape(drop_layer_3, (-1, 128))\n",
    "    h2 = rectify(h @ weights[3])\n",
    "    pre_softmax = h2 @ weights[4]\n",
    "    return pre_softmax\n",
    "    \n",
    "weights = init_weights([(32, 1, 5, 5), (64, 32, 5, 5), (128, 64, 2, 2), (128, 625), (625, 10)])\n",
    "optimizer = RMSprop(weights)\n",
    "\n",
    "if __name__ == '__main__':\n",
    "    # put this into a training loop over 100 epochs\n",
    "    for i in range(11):\n",
    "        print(\"Epoch: {}\".format(i+1))\n",
    "        avg_train_loss = 0.\n",
    "        for (j, (X, y)) in enumerate(dataloader):\n",
    "            #trainX = trainX.reshape(-1, 1, 28, 28) #training data\n",
    "            #testX = testX.reshape(-1, 1, 28, 28) #test data\n",
    "            noise_py_x = model(X.reshape(mb_size, 1, 28, 28), weights)# model(X.reshape(mb_size , 784), w_h, w_h2, w_o)\n",
    "            optimizer.zero_grad()\n",
    "            # the cross-entropy loss function already contains the softmax\n",
    "            cost = torch.nn.functional.cross_entropy(noise_py_x, y, reduction=\"mean\")\n",
    "            avg_train_loss += cost\n",
    "            cost.backward()\n",
    "            optimizer.step()\n",
    "\n",
    "        pickle.dump(weights, open(f'weights/weights{i}.p', 'wb'))\n",
    "\n",
    "        \n",
    "        print(\"Average Train Loss: {}\".format(avg_train_loss / (j + 1)))\n",
    "\n",
    "        # no need to calculate gradients for validation\n",
    "        with torch.no_grad():\n",
    "            avg_test_loss = 0.\n",
    "            for (k, (X, y)) in enumerate(test_loader):\n",
    "                noise_py_x = model(X.reshape(mb_size, 1, 28, 28), weights)\n",
    "                cost = torch.nn.functional.cross_entropy(noise_py_x, y, reduction=\"mean\")\n",
    "                avg_test_loss += cost\n",
    "\n",
    "            print(\"Average Test Loss: {}\".format(avg_test_loss / (k + 1)))"
   ]
  },
  {
   "cell_type": "code",
   "execution_count": 38,
   "metadata": {
    "scrolled": false
   },
   "outputs": [
    {
     "name": "stdout",
     "output_type": "stream",
     "text": [
      "Input Image:\n"
     ]
    },
    {
     "data": {
      "image/png": "[encoded data removed]",
      "text/plain": [
       "<Figure size 432x288 with 1 Axes>"
      ]
     },
     "metadata": {
      "needs_background": "light"
     },
     "output_type": "display_data"
    },
    {
     "name": "stdout",
     "output_type": "stream",
     "text": [
      "Output of filter 3\n"
     ]
    },
    {
     "data": {
      "image/png": "[encoded data removed]",
      "text/plain": [
       "<Figure size 432x288 with 1 Axes>"
      ]
     },
     "metadata": {
      "needs_background": "light"
     },
     "output_type": "display_data"
    },
    {
     "name": "stdout",
     "output_type": "stream",
     "text": [
      "Filter 3\n"
     ]
    },
    {
     "data": {
      "image/png": "[encoded data removed]",
      "text/plain": [
       "<Figure size 432x288 with 1 Axes>"
      ]
     },
     "metadata": {
      "needs_background": "light"
     },
     "output_type": "display_data"
    },
    {
     "name": "stdout",
     "output_type": "stream",
     "text": [
      "Output of filter 9\n"
     ]
    },
    {
     "data": {
      "image/png": "[encoded data removed]",
      "text/plain": [
       "<Figure size 432x288 with 1 Axes>"
      ]
     },
     "metadata": {
      "needs_background": "light"
     },
     "output_type": "display_data"
    },
    {
     "name": "stdout",
     "output_type": "stream",
     "text": [
      "Filter 9\n"
     ]
    },
    {
     "data": {
      "image/png": "[encoded data removed]",
      "text/plain": [
       "<Figure size 432x288 with 1 Axes>"
      ]
     },
     "metadata": {
      "needs_background": "light"
     },
     "output_type": "display_data"
    },
    {
     "name": "stdout",
     "output_type": "stream",
     "text": [
      "Output of filter 22\n"
     ]
    },
    {
     "data": {
      "image/png": "[encoded data removed]",
      "text/plain": [
       "<Figure size 432x288 with 1 Axes>"
      ]
     },
     "metadata": {
      "needs_background": "light"
     },
     "output_type": "display_data"
    },
    {
     "name": "stdout",
     "output_type": "stream",
     "text": [
      "Filter 22\n"
     ]
    },
    {
     "data": {
      "image/png": "[encoded data removed]",
      "text/plain": [
       "<Figure size 432x288 with 1 Axes>"
      ]
     },
     "metadata": {
      "needs_background": "light"
     },
     "output_type": "display_data"
    }
   ],
   "source": [
    "weights = pickle.load(open('weights/weights4.p', 'rb'))\n",
    "\n",
    "def model(X, weights):\n",
    "    convolutional_layer_1 = rectify(conv2d(X, weights[0]))\n",
    "    subsampling_layer_1 = max_pool2d(convolutional_layer_1, (2, 2))\n",
    "    drop_layer_1 = dropout(subsampling_layer_1, 0.2)\n",
    "\n",
    "    convolutional_layer_2 = rectify(conv2d(drop_layer_1, weights[1]))\n",
    "    subsampling_layer_2 = max_pool2d(convolutional_layer_2, (2, 2))\n",
    "    drop_layer_2 = dropout(subsampling_layer_2, 0.2)\n",
    "\n",
    "    convolutional_layer_3 = rectify(conv2d(drop_layer_2, weights[2]))\n",
    "    subsampling_layer_3 = max_pool2d(convolutional_layer_3, (2, 2))\n",
    "    drop_layer_3 = dropout(subsampling_layer_3, 0.2)\n",
    "\n",
    "    h = torch.reshape(drop_layer_3, (-1, 128))\n",
    "    h2 = rectify(h @ weights[3])\n",
    "    pre_softmax = h2 @ weights[4]\n",
    "    return pre_softmax, convolutional_layer_1, convolutional_layer_2, convolutional_layer_3\n",
    "    \n",
    "if __name__ == '__main__':\n",
    "    X, y = iter(dataloader).next()\n",
    "    pred, c1, c2, c3 = model(X.reshape(mb_size, 1, 28, 28), weights)\n",
    "    print(\"Input Image:\")\n",
    "    plt.figure()\n",
    "    plt.imshow(X[0, 0])\n",
    "    plt.show()\n",
    "    for i in [3, 9, 22]:\n",
    "        print(f\"Output of filter {i}\")\n",
    "        plt.figure()\n",
    "        plt.imshow(c1.detach().numpy()[0, i])\n",
    "        plt.show()\n",
    "        print(f\"Filter {i}\")\n",
    "        plt.figure()\n",
    "        plt.imshow(weights[0].detach().numpy()[i,0])\n",
    "        plt.show()"
   ]
  },
  {
   "cell_type": "markdown",
   "metadata": {},
   "source": [
    "First of these filters recognises diagonal borders, the second one horizontal ones, and the last one vertical borders."
   ]
  },
  {
   "cell_type": "code",
   "execution_count": 39,
   "metadata": {},
   "outputs": [
    {
     "name": "stdout",
     "output_type": "stream",
     "text": [
      "Epoch: 1\n",
      "Average Train Loss: 1.3161259889602661\n",
      "Average Test Loss: 0.27058660984039307\n",
      "Epoch: 2\n",
      "Average Train Loss: 0.22211255133152008\n",
      "Average Test Loss: 0.15817265212535858\n",
      "Epoch: 3\n",
      "Average Train Loss: 0.16599255800247192\n",
      "Average Test Loss: 0.1482958197593689\n",
      "Epoch: 4\n",
      "Average Train Loss: 0.14500762522220612\n",
      "Average Test Loss: 0.1403220146894455\n",
      "Epoch: 5\n",
      "Average Train Loss: 0.14105579257011414\n",
      "Average Test Loss: 0.13412249088287354\n",
      "Epoch: 6\n",
      "Average Train Loss: 0.14799754321575165\n",
      "Average Test Loss: 0.14694824814796448\n",
      "Epoch: 7\n",
      "Average Train Loss: 0.16554324328899384\n",
      "Average Test Loss: 0.21795403957366943\n",
      "Epoch: 8\n",
      "Average Train Loss: 0.1836724728345871\n",
      "Average Test Loss: 0.1936095803976059\n",
      "Epoch: 9\n",
      "Average Train Loss: 0.2062862366437912\n",
      "Average Test Loss: 0.15046320855617523\n",
      "Epoch: 10\n",
      "Average Train Loss: 0.21044883131980896\n",
      "Average Test Loss: 0.2820557951927185\n",
      "Epoch: 11\n",
      "Average Train Loss: 0.22570346295833588\n",
      "Average Test Loss: 0.30053532123565674\n"
     ]
    }
   ],
   "source": [
    "def model(X, weigths):\n",
    "    convolutional_layer_0 = rectify(conv2d(X, weigths[0]))\n",
    "    convolutional_layer_1 = rectify(conv2d(convolutional_layer_0, weigths[1]))\n",
    "    subsampling_layer_1 = max_pool2d(convolutional_layer_1, (2, 2))\n",
    "    drop_layer_1 = dropout(subsampling_layer_1, 0.2)\n",
    "\n",
    "    convolutional_layer_2 = rectify(conv2d(drop_layer_1, weigths[2]))\n",
    "    subsampling_layer_2 = max_pool2d(convolutional_layer_2, (2, 2))\n",
    "    drop_layer_2 = dropout(subsampling_layer_2, 0.2)\n",
    "\n",
    "    convolutional_layer_3 = rectify(conv2d(drop_layer_2, weigths[3]))\n",
    "    subsampling_layer_3 = max_pool2d(convolutional_layer_3, (2, 2))\n",
    "    drop_layer_3 = dropout(subsampling_layer_3, 0.2)\n",
    "\n",
    "    h = torch.reshape(drop_layer_3, (-1, 128))\n",
    "    h2 = rectify(h @ weigths[4])\n",
    "    pre_softmax = h2 @ weigths[5]\n",
    "    return pre_softmax\n",
    "\n",
    "weigths = init_weights([(32, 1, 3, 3), (32, 32, 3, 3), (64, 32, 5, 5), (128, 64, 2, 2), (128, 625), (625, 10)])\n",
    "optimizer = RMSprop(weigths)\n",
    "\n",
    "if __name__ == '__main__':\n",
    "    # put this into a training loop over 100 epochs\n",
    "    for i in range(11):\n",
    "        print(\"Epoch: {}\".format(i+1))\n",
    "        avg_train_loss = 0.\n",
    "        for (j, (X, y)) in enumerate(dataloader):\n",
    "            #trainX = trainX.reshape(-1, 1, 28, 28) #training data\n",
    "            #testX = testX.reshape(-1, 1, 28, 28) #test data\n",
    "            noise_py_x = model(X.reshape(mb_size, 1, 28, 28), weigths)# model(X.reshape(mb_size , 784), w_h, w_h2, w_o)\n",
    "            optimizer.zero_grad()\n",
    "            # the cross-entropy loss function already contains the softmax\n",
    "            cost = torch.nn.functional.cross_entropy(noise_py_x, y, reduction=\"mean\")\n",
    "            avg_train_loss += cost\n",
    "            cost.backward()\n",
    "            optimizer.step()\n",
    "\n",
    "        pickle.dump(weigths, open(f'weights/weights_new{i}.p', 'wb'))\n",
    "\n",
    "        print(\"Average Train Loss: {}\".format(avg_train_loss / (j + 1)))\n",
    "\n",
    "        # no need to calculate gradients for validation\n",
    "        with torch.no_grad():\n",
    "            avg_test_loss = 0.\n",
    "            for (k, (X, y)) in enumerate(test_loader):\n",
    "                noise_py_x = model(X.reshape(mb_size, 1, 28, 28), weigths)\n",
    "                cost = torch.nn.functional.cross_entropy(noise_py_x, y, reduction=\"mean\")\n",
    "                avg_test_loss += cost\n",
    "\n",
    "            print(\"Average Test Loss: {}\".format(avg_test_loss / (k + 1)))"
   ]
  },
  {
   "cell_type": "markdown",
   "metadata": {},
   "source": [
    "Added a layer at the beginning, and reduced the size of the first two to 3, which gives us an additional 9216 weights, and improves performance."
   ]
  },
  {
   "cell_type": "code",
   "execution_count": 43,
   "metadata": {},
   "outputs": [
    {
     "name": "stdout",
     "output_type": "stream",
     "text": [
      "MLP without dropout\n",
      "\n",
      "Final train loss: \t0.05236726254224777 \n",
      "Final test loss: \t0.7477063536643982\n",
      "\n",
      "\n",
      "MLP with dropout\n",
      "\n",
      "Final train loss: \t1.380552053451538 \n",
      "Final test loss: \t0.5611656904220581\n",
      "\n",
      "\n",
      "Base CNN\n",
      "\n",
      "Average Train Loss: \t0.19016674160957336\n",
      "Average Test Loss: \t0.16256782412528992\n",
      "\n",
      "\n",
      "Adjusted CNN\n",
      "\n",
      "Average Train Loss: \t0.14105579257011414\n",
      "Average Test Loss: \t0.13412249088287354\n"
     ]
    }
   ],
   "source": [
    "print(\"MLP without dropout\\n\")\n",
    "print(\"Final train loss: \\t0.05236726254224777 \\nFinal test loss: \\t0.7477063536643982\\n\\n\")\n",
    "print(\"MLP with dropout\\n\")\n",
    "print(\"Final train loss: \\t1.380552053451538 \\nFinal test loss: \\t0.5611656904220581\\n\\n\")\n",
    "print(\"Base CNN\\n\")\n",
    "print(\"Average Train Loss: \\t0.19016674160957336\\nAverage Test Loss: \\t0.16256782412528992\\n\\n\")\n",
    "print(\"Adjusted CNN\\n\")\n",
    "print(\"Average Train Loss: \\t0.14105579257011414\\nAverage Test Loss: \\t0.13412249088287354\")"
   ]
  }
 ],
 "metadata": {
  "kernelspec": {
   "display_name": "Python 3",
   "language": "python",
   "name": "python3"
  },
  "language_info": {
   "codemirror_mode": {
    "name": "ipython",
    "version": 3
   },
   "file_extension": ".py",
   "mimetype": "text/x-python",
   "name": "python",
   "nbconvert_exporter": "python",
   "pygments_lexer": "ipython3",
   "version": "3.7.6"
  }
 },
 "nbformat": 4,
 "nbformat_minor": 4
}
